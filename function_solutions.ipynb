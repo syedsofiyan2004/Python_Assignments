{
  "nbformat": 4,
  "nbformat_minor": 0,
  "metadata": {
    "colab": {
      "provenance": []
    },
    "kernelspec": {
      "name": "python3",
      "display_name": "Python 3"
    },
    "language_info": {
      "name": "python"
    }
  },
  "cells": [
    {
      "cell_type": "markdown",
      "source": [
        "# Assignment: Python Functions Practice\n"
      ],
      "metadata": {
        "id": "oXVtshWIjEQT"
      }
    },
    {
      "cell_type": "markdown",
      "source": [
        "##**Easy Questions:**"
      ],
      "metadata": {
        "id": "RWPtvLoujLwJ"
      }
    },
    {
      "cell_type": "markdown",
      "source": [
        "##**Functions:(Easy)**"
      ],
      "metadata": {
        "id": "vH7Opf7PjbZS"
      }
    },
    {
      "cell_type": "code",
      "execution_count": null,
      "metadata": {
        "colab": {
          "base_uri": "https://localhost:8080/"
        },
        "id": "ilElj938i1GN",
        "outputId": "47d24b1e-6855-4d87-c997-7a4c76f8e369"
      },
      "outputs": [
        {
          "output_type": "stream",
          "name": "stdout",
          "text": [
            "3.0\n",
            "0\n",
            "70.0\n",
            "13.0\n"
          ]
        }
      ],
      "source": [
        "def calculate_avg(num):\n",
        "  if not num:\n",
        "    return 0\n",
        "  return sum(num)/len(num)\n",
        "print(calculate_avg([1,2,3,4,5]))\n",
        "print(calculate_avg([]))\n",
        "print(calculate_avg([22,67,89,102]))\n",
        "print(calculate_avg([13]))"
      ]
    },
    {
      "cell_type": "code",
      "source": [
        "def greet_user(name,greetings=None):\n",
        "  if greetings is None:\n",
        "    greetings=\"Hello\" ## Here we are setting a deafult value as Hello if Arguements are not passed or given to this function\n",
        "  message= name +\", \"+ greetings +\"!\"\n",
        "  return message\n",
        "print(greet_user(\"Alice\"))\n",
        "print(greet_user(\"Bob\",\"Hi\"))\n",
        "print(greet_user(\"John Doe\",\"Hey\"))\n",
        "print(greet_user(\"Sai\",\"Namastey Anna\"))\n",
        "\n"
      ],
      "metadata": {
        "colab": {
          "base_uri": "https://localhost:8080/"
        },
        "id": "hNTE5jm5kg6E",
        "outputId": "51e0ed9e-74aa-4f3e-aaee-68844d0bf94f"
      },
      "execution_count": null,
      "outputs": [
        {
          "output_type": "stream",
          "name": "stdout",
          "text": [
            "Alice, Hello!\n",
            "Bob, Hi!\n",
            "John Doe, Hey!\n",
            "Sai, Namastey Anna!\n"
          ]
        }
      ]
    },
    {
      "cell_type": "markdown",
      "source": [
        "##**Functions(Medium):**"
      ],
      "metadata": {
        "id": "mksZ5Jl2nSX6"
      }
    },
    {
      "cell_type": "code",
      "source": [
        "def calculate_total(num,discount=0):\n",
        "  if discount == 0:\n",
        "    return sum(num)\n",
        "  return sum(num)-(sum(num)*discount/100)\n",
        "print(calculate_total([10,20,30,40,50]))\n",
        "print(calculate_total([100,200,300,400,500],discount=10))\n",
        "print(calculate_total([22,57,64,79],20))\n",
        "print(calculate_total([124.7,236.9,785.987,4562.907],discount=7.785))\n",
        "print(calculate_total((10, 20, 30,),discount=10))"
      ],
      "metadata": {
        "colab": {
          "base_uri": "https://localhost:8080/"
        },
        "id": "x3Frvc9gnYKp",
        "outputId": "4f4f6b0e-701a-45da-f1a1-a5d095338c06"
      },
      "execution_count": null,
      "outputs": [
        {
          "output_type": "stream",
          "name": "stdout",
          "text": [
            "150\n",
            "1350.0\n",
            "177.6\n",
            "5265.9320421\n",
            "54.0\n"
          ]
        }
      ]
    },
    {
      "cell_type": "code",
      "source": [
        "def create_multiplier(num):\n",
        "  def value_multiplier(val):\n",
        "    return num*val\n",
        "  return value_multiplier\n",
        "multiply_by_2=create_multiplier(2)\n",
        "multiply_by_3=create_multiplier(3)\n",
        "multiply_by_13=create_multiplier(13)\n",
        "print(multiply_by_2(5))\n",
        "print(multiply_by_3(5))\n",
        "print(multiply_by_13(27))\n"
      ],
      "metadata": {
        "id": "SA4tdlglpb0D"
      },
      "execution_count": null,
      "outputs": []
    },
    {
      "cell_type": "markdown",
      "source": [
        "##**Functions:(Hard)**"
      ],
      "metadata": {
        "id": "t2MJq4m8rRC1"
      }
    },
    {
      "cell_type": "code",
      "source": [
        "def power(x, n):\n",
        "  if n < 0:\n",
        "    return 1 / power(x, -n)\n",
        "  if n==0:\n",
        "    return 1\n",
        "  if n % 2 == 0:\n",
        "    return power(x * x, n // 2)\n",
        "  else:\n",
        "    return x * power(x * x, (n - 1) // 2)\n",
        "print(power(2,5))\n",
        "print(power(3,4))\n",
        "print(power(5,4))\n",
        "print(power(4,-1))\n",
        "\n"
      ],
      "metadata": {
        "id": "JoVio2MfrZy7",
        "colab": {
          "base_uri": "https://localhost:8080/"
        },
        "outputId": "5af1908a-6b09-4501-8cf2-cae66f02a3de"
      },
      "execution_count": 56,
      "outputs": [
        {
          "output_type": "stream",
          "name": "stdout",
          "text": [
            "32\n",
            "81\n",
            "625\n",
            "0.25\n"
          ]
        }
      ]
    },
    {
      "cell_type": "code",
      "source": [
        "def compose(*functions): ## We use this *functions for accepting multiple functions as Arguements\n",
        "    def combined_function(value):\n",
        "        result = value\n",
        "        for func in reversed(functions):  # As the problem suggests to go from right to left we are reversing the direction\n",
        "            result = func(result)         # This Indicates that each function takes the result from the previous one\n",
        "        return result\n",
        "    return combined_function\n",
        "def add():\n",
        "    return lambda x: x + 1\n",
        "\n",
        "def multiply():\n",
        "    return lambda x: x * 2\n",
        "\n",
        "def square():\n",
        "    return lambda x: x ** 2\n",
        "test_cases = compose(add(), multiply(), square(), power())\n",
        "print(test_cases(4))\n",
        "\n",
        "\n"
      ],
      "metadata": {
        "colab": {
          "base_uri": "https://localhost:8080/"
        },
        "id": "LFm-IdwN4w34",
        "outputId": "77561425-79b1-449b-ef8d-f5fa111accc2"
      },
      "execution_count": 53,
      "outputs": [
        {
          "output_type": "stream",
          "name": "stdout",
          "text": [
            "33\n"
          ]
        }
      ]
    }
  ]
}