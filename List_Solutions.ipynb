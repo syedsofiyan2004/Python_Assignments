{
  "nbformat": 4,
  "nbformat_minor": 0,
  "metadata": {
    "colab": {
      "provenance": []
    },
    "kernelspec": {
      "name": "python3",
      "display_name": "Python 3"
    },
    "language_info": {
      "name": "python"
    }
  },
  "cells": [
    {
      "cell_type": "markdown",
      "source": [
        "# **Assignment: Python Lists Practice**"
      ],
      "metadata": {
        "id": "Hcgr9XtpGDZB"
      }
    },
    {
      "cell_type": "markdown",
      "source": [
        "##**Easy Questions:**"
      ],
      "metadata": {
        "id": "JFOXyUvAGML-"
      }
    },
    {
      "cell_type": "code",
      "execution_count": 4,
      "metadata": {
        "colab": {
          "base_uri": "https://localhost:8080/"
        },
        "id": "-lRwWJ5dF6dH",
        "outputId": "34313a6f-db1d-48dd-c677-d52ac778f6f9"
      },
      "outputs": [
        {
          "output_type": "stream",
          "name": "stdout",
          "text": [
            "[2, 4, 6, 8, 10]\n",
            "[834, 702, 270]\n",
            "[76, 34, 9086]\n"
          ]
        }
      ],
      "source": [
        "def filter_even_numbers(num):\n",
        "  return [x for x in num if x % 2 == 0]\n",
        "print(filter_even_numbers([1, 2, 3, 4, 5, 6, 7, 8, 9, 10]))\n",
        "print(filter_even_numbers([834,58673,702,270]))\n",
        "print(filter_even_numbers([1, 3, 5, 7, 9,89,76,45,34,9086,6645]))"
      ]
    },
    {
      "cell_type": "code",
      "source": [
        "def merge_sorted_lists(list1,list2):\n",
        "  return sorted(list1 + list2)\n",
        "print(merge_sorted_lists([76,90,54,36,987,789,654], [44,90,87,65,12,890,789,564]))"
      ],
      "metadata": {
        "colab": {
          "base_uri": "https://localhost:8080/"
        },
        "id": "aibJHqBsHXTG",
        "outputId": "c8b83361-0962-4863-e528-de45a06bdd49"
      },
      "execution_count": 3,
      "outputs": [
        {
          "output_type": "stream",
          "name": "stdout",
          "text": [
            "[12, 36, 44, 54, 65, 76, 87, 90, 90, 564, 654, 789, 789, 890, 987]\n"
          ]
        }
      ]
    },
    {
      "cell_type": "markdown",
      "source": [
        "##**Medium Questions:**"
      ],
      "metadata": {
        "id": "gxGP8jFsFl8O"
      }
    },
    {
      "cell_type": "code",
      "source": [
        "import numpy as np\n",
        "def generate_matrix(r,c):\n",
        "  matrix = np.zeros((r,c), dtype=int)\n",
        "  for i in range(r):\n",
        "    for j in range(c):\n",
        "      matrix[i,j]=i*j\n",
        "  return matrix\n",
        "print(generate_matrix(4,5))\n",
        "print(generate_matrix(2,3))\n",
        "print(generate_matrix(3,3))\n",
        "print(generate_matrix(3,4))\n"
      ],
      "metadata": {
        "colab": {
          "base_uri": "https://localhost:8080/"
        },
        "id": "hzu2UuxBJtfZ",
        "outputId": "d45b5508-01d5-47bf-ea17-bbc6186b1c53"
      },
      "execution_count": 7,
      "outputs": [
        {
          "output_type": "stream",
          "name": "stdout",
          "text": [
            "[[ 0  0  0  0  0]\n",
            " [ 0  1  2  3  4]\n",
            " [ 0  2  4  6  8]\n",
            " [ 0  3  6  9 12]]\n",
            "[[0 0 0]\n",
            " [0 1 2]]\n",
            "[[0 0 0]\n",
            " [0 1 2]\n",
            " [0 2 4]]\n",
            "[[0 0 0 0]\n",
            " [0 1 2 3]\n",
            " [0 2 4 6]]\n"
          ]
        }
      ]
    },
    {
      "cell_type": "code",
      "source": [
        "def transpose_matrix(matrix):\n",
        "    r = len(matrix)\n",
        "    c = len(matrix[0])\n",
        "    transpose = [[0 for _ in range(r)] for _ in range(c)]\n",
        "    for i in range(r):\n",
        "        for j in range(c):\n",
        "            transpose[j][i] = matrix[i][j]\n",
        "    return transpose\n",
        "# Print function to format output as matrix\n",
        "def print_matrix(matrix):\n",
        "    for row in matrix:\n",
        "        print(row)\n",
        "    print(\"\\n\")\n",
        "matrix1 = [[1, 5, 7],\n",
        "           [3, 0, 9],\n",
        "           [2, 1, 6]]\n",
        "matrix2 = [[1, 2, 3],\n",
        "           [7, 8, 9]]\n",
        "matrix3 = [[1, 9],\n",
        "           [2, 8],\n",
        "           [3, 7]]\n",
        "print_matrix(transpose_matrix(matrix1))\n",
        "print_matrix(transpose_matrix(matrix2))\n",
        "print_matrix(transpose_matrix(matrix3))\n"
      ],
      "metadata": {
        "colab": {
          "base_uri": "https://localhost:8080/"
        },
        "id": "-TKWIHQdLSxI",
        "outputId": "022ea754-08ae-4d10-eeff-e193ddfcd3c1"
      },
      "execution_count": 14,
      "outputs": [
        {
          "output_type": "stream",
          "name": "stdout",
          "text": [
            "[1, 3, 2]\n",
            "[5, 0, 1]\n",
            "[7, 9, 6]\n",
            "\n",
            "\n",
            "[1, 7]\n",
            "[2, 8]\n",
            "[3, 9]\n",
            "\n",
            "\n",
            "[1, 2, 3]\n",
            "[9, 8, 7]\n",
            "\n",
            "\n"
          ]
        }
      ]
    },
    {
      "cell_type": "markdown",
      "source": [
        "##**Hard Questions:**\n"
      ],
      "metadata": {
        "id": "eVsMaiyAR6m8"
      }
    },
    {
      "cell_type": "code",
      "source": [
        "def find_peaks(nums):\n",
        "    peaks = []\n",
        "    for i in range(1, len(nums) - 1):\n",
        "        if nums[i] > nums[i - 1] and nums[i] > nums[i + 1]:\n",
        "            peaks.append(i)\n",
        "    return peaks\n",
        "print(find_peaks([1, 3, 2, 3, 5, 4, 3, 2, 3, 1]))\n",
        "print(find_peaks([2,7,9,3,6,54,90,81]))\n"
      ],
      "metadata": {
        "colab": {
          "base_uri": "https://localhost:8080/"
        },
        "id": "mhhsqN2HSAKt",
        "outputId": "3bd2552f-482a-4fd7-d741-85ed3ca7533f"
      },
      "execution_count": 2,
      "outputs": [
        {
          "output_type": "stream",
          "name": "stdout",
          "text": [
            "[1, 4, 8]\n",
            "[2, 6]\n"
          ]
        }
      ]
    },
    {
      "cell_type": "code",
      "source": [
        "def rotate_List(list,k):\n",
        "  k=k%len(list)\n",
        "  for _ in range(k):\n",
        "    last=list.pop()\n",
        "    list.insert(0,last)\n",
        "    return list\n",
        "print(rotate_List([1, 2, 3, 4, 5], 2))\n",
        "print(rotate_List([1, 2, 3], 4))\n",
        "print(rotate_List([3,2,0,8,54,78,12],5))"
      ],
      "metadata": {
        "colab": {
          "base_uri": "https://localhost:8080/"
        },
        "id": "Xkx3vJD2Ei87",
        "outputId": "d5c8ecf6-56e3-4119-8080-824846da98eb"
      },
      "execution_count": 3,
      "outputs": [
        {
          "output_type": "stream",
          "name": "stdout",
          "text": [
            "[5, 1, 2, 3, 4]\n",
            "[3, 1, 2]\n",
            "[12, 3, 2, 0, 8, 54, 78]\n"
          ]
        }
      ]
    }
  ]
}