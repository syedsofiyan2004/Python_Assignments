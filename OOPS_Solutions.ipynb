{
  "nbformat": 4,
  "nbformat_minor": 0,
  "metadata": {
    "colab": {
      "provenance": []
    },
    "kernelspec": {
      "name": "python3",
      "display_name": "Python 3"
    },
    "language_info": {
      "name": "python"
    }
  },
  "cells": [
    {
      "cell_type": "markdown",
      "source": [
        "# **Assignment: OOPS Concept  Practice**"
      ],
      "metadata": {
        "id": "LsLpIgDbdS1m"
      }
    },
    {
      "cell_type": "markdown",
      "source": [
        "##**Easy Questions:**"
      ],
      "metadata": {
        "id": "UG6IdGYnddKv"
      }
    },
    {
      "cell_type": "code",
      "execution_count": 1,
      "metadata": {
        "colab": {
          "base_uri": "https://localhost:8080/"
        },
        "id": "FB2UXrk8dRsX",
        "outputId": "494a36ea-cbff-4499-9e20-324fb28765eb"
      },
      "outputs": [
        {
          "output_type": "stream",
          "name": "stdout",
          "text": [
            "50\n",
            "30\n"
          ]
        }
      ],
      "source": [
        "class Rectangle:\n",
        "    def __init__(self, width, height):\n",
        "        self.width = width\n",
        "        self.height = height\n",
        "\n",
        "    def area(self):\n",
        "        return self.width * self.height\n",
        "\n",
        "    def perimeter(self):\n",
        "        return 2 * (self.width + self.height)\n",
        "rect = Rectangle(5, 10)\n",
        "print(rect.area())\n",
        "print(rect.perimeter())\n"
      ]
    },
    {
      "cell_type": "code",
      "source": [
        "class Counter:\n",
        "    def __init__(self):\n",
        "        self.value = 0\n",
        "    def increment(self):\n",
        "        self.value += 1\n",
        "    def decrement(self):\n",
        "        self.value -= 1\n",
        "    def reset(self):\n",
        "        self.value = 0\n",
        "counter = Counter()\n",
        "counter.increment()\n",
        "counter.increment()\n",
        "print(counter.value)\n",
        "counter.decrement()\n",
        "print(counter.value)\n",
        "counter.reset()\n",
        "print(counter.value)\n"
      ],
      "metadata": {
        "colab": {
          "base_uri": "https://localhost:8080/"
        },
        "id": "vGE8PN9-dru0",
        "outputId": "97948ccb-11d1-404c-dacb-c9d000bbbf95"
      },
      "execution_count": 2,
      "outputs": [
        {
          "output_type": "stream",
          "name": "stdout",
          "text": [
            "2\n",
            "1\n",
            "0\n"
          ]
        }
      ]
    },
    {
      "cell_type": "markdown",
      "source": [
        "##**Medium Questions:**"
      ],
      "metadata": {
        "id": "K-hdkr4fdvXg"
      }
    },
    {
      "cell_type": "code",
      "source": [
        "class Car:\n",
        "    def __init__(self, make, model, year, doors, fuel_type):\n",
        "        self.make = make\n",
        "        self.model = model\n",
        "        self.year = year\n",
        "        self.doors = doors\n",
        "        self.fuel_type = fuel_type\n",
        "car = Car(\"Toyota\", \"Corolla\", 2020, 4, \"Gasoline\")\n",
        "print(car.make)\n",
        "print(car.doors)\n"
      ],
      "metadata": {
        "colab": {
          "base_uri": "https://localhost:8080/"
        },
        "id": "-AFyO8LadzO5",
        "outputId": "aa30d493-5ca2-4afd-85ac-9fbc10274ff2"
      },
      "execution_count": 3,
      "outputs": [
        {
          "output_type": "stream",
          "name": "stdout",
          "text": [
            "Toyota\n",
            "4\n"
          ]
        }
      ]
    },
    {
      "cell_type": "code",
      "source": [
        "class BankAccount:\n",
        "    def __init__(self, account_number, initial_balance):\n",
        "        self.__account_number = account_number\n",
        "        self.__balance = initial_balance\n",
        "    def get_balance(self):\n",
        "        return self.__balance\n",
        "    def deposit(self, amount):\n",
        "        if amount > 0:\n",
        "            self.__balance += amount\n",
        "        else:\n",
        "            raise ValueError(\"Deposit amount must be positive\")\n",
        "    def withdraw(self, amount):\n",
        "        if amount <= self.__balance:\n",
        "            self.__balance -= amount\n",
        "        else:\n",
        "            raise ValueError(\"Insufficient funds\")\n",
        "    def get_account_number(self):\n",
        "        return self.__account_number\n",
        "account = BankAccount(\"123456\", 1000)\n",
        "print(account.get_balance())  # ➜ 1000\n",
        "\n",
        "account.deposit(500)\n",
        "print(account.get_balance())  # ➜ 1500\n",
        "\n",
        "account.withdraw(200)\n",
        "print(account.get_balance())  # ➜ 1300\n",
        "\n",
        "print(account.get_account_number())  # ➜ \"123456\"\n",
        "try:\n",
        "    account.__balance = 2000  # This creates a new attribute, doesn't modify the real one\n",
        "    print(account.get_balance())  # ➜ Still 1300\n",
        "except AttributeError:\n",
        "    print(\"Cannot directly access private attribute\")\n"
      ],
      "metadata": {
        "colab": {
          "base_uri": "https://localhost:8080/"
        },
        "id": "vKlQcRfKdzh0",
        "outputId": "9550260f-686c-4596-82ec-5d6ff1f44071"
      },
      "execution_count": 4,
      "outputs": [
        {
          "output_type": "stream",
          "name": "stdout",
          "text": [
            "1000\n",
            "1500\n",
            "1300\n",
            "123456\n",
            "1300\n"
          ]
        }
      ]
    },
    {
      "cell_type": "markdown",
      "source": [
        "##**Hard Questions:**"
      ],
      "metadata": {
        "id": "H1p4queOeE99"
      }
    },
    {
      "cell_type": "code",
      "source": [
        "import math\n",
        "\n",
        "class Shape:\n",
        "    def area(self):\n",
        "        raise NotImplementedError(\"Subclasses must implement the area method\")\n",
        "\n",
        "class Circle(Shape):\n",
        "    def __init__(self, radius):\n",
        "        self.radius = radius\n",
        "\n",
        "    def area(self):\n",
        "        return round(math.pi * self.radius ** 2, 2)\n",
        "\n",
        "class Rectangle(Shape):\n",
        "    def __init__(self, width, height):\n",
        "        self.width = width\n",
        "        self.height = height\n",
        "\n",
        "    def area(self):\n",
        "        return self.width * self.height\n",
        "\n",
        "class Triangle(Shape):\n",
        "    def __init__(self, a, b, c):\n",
        "        self.a = a\n",
        "        self.b = b\n",
        "        self.c = c\n",
        "\n",
        "    def area(self):\n",
        "        # Heron's Formula\n",
        "        s = (self.a + self.b + self.c) / 2\n",
        "        return round(math.sqrt(s * (s - self.a) * (s - self.b) * (s - self.c)), 2)\n",
        "circle = Circle(5)\n",
        "rectangle = Rectangle(4, 6)\n",
        "triangle = Triangle(3, 4, 5)\n",
        "\n",
        "shapes = [circle, rectangle, triangle]\n",
        "for shape in shapes:\n",
        "    print(f\"{shape.__class__.__name__} area: {shape.area()}\")\n"
      ],
      "metadata": {
        "colab": {
          "base_uri": "https://localhost:8080/"
        },
        "id": "znTf-_NZeIVQ",
        "outputId": "d87fe2b4-876a-4e1a-b1ae-ba1c031853ef"
      },
      "execution_count": 5,
      "outputs": [
        {
          "output_type": "stream",
          "name": "stdout",
          "text": [
            "Circle area: 78.54\n",
            "Rectangle area: 24\n",
            "Triangle area: 6.0\n"
          ]
        }
      ]
    },
    {
      "cell_type": "code",
      "source": [
        "class Book:\n",
        "    def __init__(self, title, author):\n",
        "        self.title = title\n",
        "        self.author = author\n",
        "class Member:\n",
        "    def __init__(self, name, member_id):\n",
        "        self.name = name\n",
        "        self.member_id = member_id\n",
        "class Library:\n",
        "    def __init__(self):\n",
        "        self.books = []  # List of all books\n",
        "        self.members = []  # List of all members\n",
        "        self.checked_out = {}  # {book: member}\n",
        "    def add_book(self, book):\n",
        "        self.books.append(book)\n",
        "    def register_member(self, member):\n",
        "        self.members.append(member)\n",
        "    def checkout_book(self, book, member):\n",
        "        if book in self.books and book not in self.checked_out:\n",
        "            self.checked_out[book] = member\n",
        "        else:\n",
        "            print(\"Book not available or already checked out.\")\n",
        "    def return_book(self, book, member):\n",
        "        if book in self.checked_out and self.checked_out[book] == member:\n",
        "            del self.checked_out[book]\n",
        "        else:\n",
        "            print(\"Book was not checked out by this member.\")\n",
        "    def is_book_available(self, book):\n",
        "        return book in self.books and book not in self.checked_out\n",
        "library = Library()\n",
        "book1 = Book(\"Python Programming\", \"John Smith\")\n",
        "book2 = Book(\"Data Structures\", \"Jane Doe\")\n",
        "library.add_book(book1)\n",
        "library.add_book(book2)\n",
        "member = Member(\"Alice\", \"M001\")\n",
        "library.register_member(member)\n",
        "library.checkout_book(book1, member)\n",
        "print(library.is_book_available(book1))\n",
        "print(library.is_book_available(book2))\n",
        "library.return_book(book1, member)\n",
        "print(library.is_book_available(book1))\n"
      ],
      "metadata": {
        "colab": {
          "base_uri": "https://localhost:8080/"
        },
        "id": "3dnQ6kCmeIle",
        "outputId": "deb93892-69e9-4202-d8a0-467596b8f916"
      },
      "execution_count": 6,
      "outputs": [
        {
          "output_type": "stream",
          "name": "stdout",
          "text": [
            "False\n",
            "True\n",
            "True\n"
          ]
        }
      ]
    }
  ]
}