{
  "nbformat": 4,
  "nbformat_minor": 0,
  "metadata": {
    "colab": {
      "provenance": []
    },
    "kernelspec": {
      "name": "python3",
      "display_name": "Python 3"
    },
    "language_info": {
      "name": "python"
    }
  },
  "cells": [
    {
      "cell_type": "markdown",
      "source": [
        "# **Assignment: Python Tuples Practice**"
      ],
      "metadata": {
        "id": "9hDHgFWAG-1H"
      }
    },
    {
      "cell_type": "markdown",
      "source": [
        "##**Easy Questions:**"
      ],
      "metadata": {
        "id": "CAQlcSdGG-eG"
      }
    },
    {
      "cell_type": "code",
      "execution_count": 11,
      "metadata": {
        "colab": {
          "base_uri": "https://localhost:8080/"
        },
        "id": "KpPnwlFvG8Np",
        "outputId": "b3001345-336b-4058-eb54-1e6c85088917"
      },
      "outputs": [
        {
          "output_type": "stream",
          "name": "stdout",
          "text": [
            "(2, 1, 4, 3, 5)\n",
            "(2, 1, 4, 3)\n",
            "(2, 1, 3)\n"
          ]
        }
      ],
      "source": [
        "def swap_pairs(tup):\n",
        "    lst = list(tup)\n",
        "    for i in range(0, len(lst) - 1, 2):\n",
        "        lst[i], lst[i + 1] = lst[i + 1], lst[i]\n",
        "    return tuple(lst)\n",
        "print(swap_pairs((1, 2, 3, 4, 5)))\n",
        "print(swap_pairs((1, 2, 3, 4)))\n",
        "print(swap_pairs((1, 2, 3)))\n"
      ]
    },
    {
      "cell_type": "code",
      "source": [
        "def get_stats(list):\n",
        "    min_value = min(list)\n",
        "    max_value = max(list)\n",
        "    add= sum(list)\n",
        "    average = add/len(list)\n",
        "    result = (min_value, max_value,add,average)\n",
        "    return result\n",
        "print(get_stats([1, 2, 3, 4, 5]))\n",
        "print(get_stats([2.5, 1.2, 3.7, 0.5]))"
      ],
      "metadata": {
        "colab": {
          "base_uri": "https://localhost:8080/"
        },
        "id": "WdoQX2qsI-dQ",
        "outputId": "0556aa88-1863-40e5-ea42-832e8d1d7505"
      },
      "execution_count": 12,
      "outputs": [
        {
          "output_type": "stream",
          "name": "stdout",
          "text": [
            "(1, 5, 15, 3.0)\n",
            "(0.5, 3.7, 7.9, 1.975)\n"
          ]
        }
      ]
    },
    {
      "cell_type": "markdown",
      "source": [
        "##**Medium Questions:**"
      ],
      "metadata": {
        "id": "g3fDpvILI9u8"
      }
    },
    {
      "cell_type": "code",
      "source": [
        "from collections import namedtuple\n",
        "Student=namedtuple(\"Student\",[\"name\",\"age\",\"scores\"])\n",
        "Alice=Student(\"Alice\",20,[85,90,95])\n",
        "Bob=Student(\"Bob\",19,[75,80,85])\n",
        "Charlie=Student(\"Charlie\",18,[90,95,100])\n",
        "Sai_Anna=Student(\"Sai Kiran\",24,[100,100,100]) ##Just for fun\n",
        "def top_Student(tuple):\n",
        "  return(max(tuple,key=lambda x:sum(x.scores)/len(x.scores)))\n",
        "print(top_Student([Alice,Bob,Charlie,Sai_Anna]))"
      ],
      "metadata": {
        "colab": {
          "base_uri": "https://localhost:8080/"
        },
        "id": "37HjDgLKKTtR",
        "outputId": "2bbd11a0-ddf7-4cc0-d168-9d3448806e1a"
      },
      "execution_count": 13,
      "outputs": [
        {
          "output_type": "stream",
          "name": "stdout",
          "text": [
            "Student(name='Sai Kiran', age=24, scores=[100, 100, 100])\n"
          ]
        }
      ]
    },
    {
      "cell_type": "code",
      "source": [
        "def count_coordinate_occurrences(coords):\n",
        "    coord_count = {}\n",
        "    for coord in coords:\n",
        "        if coord in coord_count:\n",
        "            coord_count[coord] += 1\n",
        "        else:\n",
        "            coord_count[coord] = 1\n",
        "    return coord_count\n",
        "print(count_coordinate_occurrences([(1, 2), (3, 4), (1, 2), (5, 6), (3, 4), (1, 2)]))\n",
        "print(count_coordinate_occurrences([(0, 0), (0, 1), (1, 0), (1, 1)]))\n",
        "\n"
      ],
      "metadata": {
        "colab": {
          "base_uri": "https://localhost:8080/"
        },
        "id": "516eJIlKMMMR",
        "outputId": "44f6e9f3-ee1a-4e23-94e6-2a069e65d52b"
      },
      "execution_count": 19,
      "outputs": [
        {
          "output_type": "stream",
          "name": "stdout",
          "text": [
            "{(1, 2): 3, (3, 4): 2, (5, 6): 1}\n",
            "{(0, 0): 1, (0, 1): 1, (1, 0): 1, (1, 1): 1}\n"
          ]
        }
      ]
    },
    {
      "cell_type": "markdown",
      "source": [
        "##**Hard Question:**"
      ],
      "metadata": {
        "id": "gOJxFce5OCbA"
      }
    },
    {
      "cell_type": "code",
      "source": [
        "def group_by_department(employees):\n",
        "    department_groups = {}\n",
        "    for name, dept, salary in employees:\n",
        "        if dept not in department_groups:\n",
        "            department_groups[dept] = {\n",
        "                \"total_salary\": 0,\n",
        "                \"count\": 0,\n",
        "                \"names\": []\n",
        "            }\n",
        "        department_groups[dept][\"total_salary\"] += salary\n",
        "        department_groups[dept][\"count\"] += 1\n",
        "        department_groups[dept][\"names\"].append(name)\n",
        "    result = {}\n",
        "    for dept, data in department_groups.items():\n",
        "        avg_salary = data[\"total_salary\"] // data[\"count\"]\n",
        "        result[dept] = (avg_salary, data[\"names\"])\n",
        "    return result\n",
        "employees = [\n",
        "    (\"Alice\", \"Engineering\", 80000),\n",
        "    (\"Bob\", \"Marketing\", 70000),\n",
        "    (\"Charlie\", \"Engineering\", 90000),\n",
        "    (\"Diana\", \"HR\", 65000),\n",
        "    (\"Eve\", \"Marketing\", 75000),\n",
        "    (\"Sai Kiran\", \"Engineering\", 120000),\n",
        "    (\"Priya\",\"HR\",100000),\n",
        "    (\"Karan\",\"Marketing\",360000)\n",
        "]\n",
        "print(group_by_department(employees))"
      ],
      "metadata": {
        "colab": {
          "base_uri": "https://localhost:8080/"
        },
        "id": "B0lLJa5SOHaX",
        "outputId": "ec8fc7d5-6ade-46c5-99d5-804350d8fcb7"
      },
      "execution_count": 22,
      "outputs": [
        {
          "output_type": "stream",
          "name": "stdout",
          "text": [
            "{'Engineering': (96666, ['Alice', 'Charlie', 'Sai Kiran']), 'Marketing': (168333, ['Bob', 'Eve', 'Karan']), 'HR': (82500, ['Diana', 'Priya'])}\n"
          ]
        }
      ]
    },
    {
      "cell_type": "code",
      "source": [
        "def flatten_tuple(nested):\n",
        "    flat = []\n",
        "    for item in nested:\n",
        "        if isinstance(item, tuple):\n",
        "            flat.extend(flatten_tuple(item))\n",
        "        else:\n",
        "            flat.append(item)\n",
        "    return tuple(flat)\n",
        "print(flatten_tuple((1, (2, 3), (4, (5, 6)), 7)))\n",
        "print(flatten_tuple(((22,36),(64,61,90,78),92,(81))))\n"
      ],
      "metadata": {
        "colab": {
          "base_uri": "https://localhost:8080/"
        },
        "id": "cxqsZ3rKRV3f",
        "outputId": "9c6925ad-ac9a-4085-e463-b58ca0b509a9"
      },
      "execution_count": 26,
      "outputs": [
        {
          "output_type": "stream",
          "name": "stdout",
          "text": [
            "(1, 2, 3, 4, 5, 6, 7)\n",
            "(22, 36, 64, 61, 90, 78, 92, 81)\n"
          ]
        }
      ]
    }
  ]
}