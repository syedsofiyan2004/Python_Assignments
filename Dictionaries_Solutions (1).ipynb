{
  "nbformat": 4,
  "nbformat_minor": 0,
  "metadata": {
    "colab": {
      "provenance": []
    },
    "kernelspec": {
      "name": "python3",
      "display_name": "Python 3"
    },
    "language_info": {
      "name": "python"
    }
  },
  "cells": [
    {
      "cell_type": "markdown",
      "source": [
        "# **Assignment: Dictionaries Practice**"
      ],
      "metadata": {
        "id": "ftyDqHcRTlqw"
      }
    },
    {
      "cell_type": "markdown",
      "source": [
        "##**Easy Questions:**\n"
      ],
      "metadata": {
        "id": "Jl_Ic8SdUSX2"
      }
    },
    {
      "cell_type": "code",
      "execution_count": 2,
      "metadata": {
        "colab": {
          "base_uri": "https://localhost:8080/"
        },
        "id": "7DwekwRYTJkB",
        "outputId": "90bf6c68-ae54-43f7-a6b6-508710b2642e"
      },
      "outputs": [
        {
          "output_type": "stream",
          "name": "stdout",
          "text": [
            "{1: 'a', 2: 'b', 3: 'c'}\n",
            "{'koala': 'zebra', 'camel': 'horse'}\n",
            "{'one': 1, 'two': 2, 'three': 3}\n"
          ]
        }
      ],
      "source": [
        "def invert_dictionary(dict):\n",
        "  new_dict = {}\n",
        "  for key, value in dict.items():\n",
        "    new_dict[value] = key\n",
        "  return new_dict\n",
        "print(invert_dictionary({\"a\": 1, \"b\": 2, \"c\": 3}))\n",
        "print(invert_dictionary({\"zebra\": \"koala\", \"horse\": \"camel\"}))\n",
        "print(invert_dictionary({1: \"one\", 2: \"two\", 3: \"three\"}))"
      ]
    },
    {
      "cell_type": "code",
      "source": [
        "def merge_dictionaries(dict1, dict2):\n",
        "  new_dict = {}\n",
        "  for key, value in dict1.items():\n",
        "    new_dict[key] = value\n",
        "  for key, value in dict2.items():\n",
        "    new_dict[key] = value\n",
        "    return new_dict\n",
        "print(merge_dictionaries({\"a\": 1, \"b\": 2, \"c\": 3}, {\"d\": 2, \"c\": 4, \"b\": 1}))"
      ],
      "metadata": {
        "colab": {
          "base_uri": "https://localhost:8080/"
        },
        "id": "VdB5qOTgVGIm",
        "outputId": "54a90cbb-1663-4017-efdc-07f4b79e617c"
      },
      "execution_count": 5,
      "outputs": [
        {
          "output_type": "stream",
          "name": "stdout",
          "text": [
            "{'a': 1, 'b': 2, 'c': 3, 'd': 2}\n"
          ]
        }
      ]
    },
    {
      "cell_type": "markdown",
      "source": [
        "##**Medium Questions:**"
      ],
      "metadata": {
        "id": "NDM04OmAaiyy"
      }
    },
    {
      "cell_type": "code",
      "source": [
        "def word_frequencies(text):\n",
        "    words = text.split()  # Split string into list of words\n",
        "    freq = {}\n",
        "\n",
        "    for word in words:\n",
        "        if word in freq:\n",
        "            freq[word] += 1\n",
        "        else:\n",
        "            freq[word] = 1\n",
        "\n",
        "    return freq\n",
        "print(word_frequencies(\"She sells sea shells at the sea shore\"))\n",
        "print(word_frequencies(\"Betty batter bought butter but the butter was bitter so betty batter bought better butter to make bitter butter better.\"))"
      ],
      "metadata": {
        "colab": {
          "base_uri": "https://localhost:8080/"
        },
        "id": "FA9khewzVinI",
        "outputId": "a46cf58c-1226-4708-984c-adcf5d7e3a6a"
      },
      "execution_count": 3,
      "outputs": [
        {
          "output_type": "stream",
          "name": "stdout",
          "text": [
            "{'She': 1, 'sells': 1, 'sea': 2, 'shells': 1, 'at': 1, 'the': 1, 'shore': 1}\n",
            "{'Betty': 1, 'batter': 2, 'bought': 2, 'butter': 4, 'but': 1, 'the': 1, 'was': 1, 'bitter': 2, 'so': 1, 'betty': 1, 'better': 1, 'to': 1, 'make': 1, 'better.': 1}\n"
          ]
        }
      ]
    },
    {
      "cell_type": "code",
      "source": [
        "def add_contact(contacts, name, **info):\n",
        "    if name not in contacts:\n",
        "        contacts[name] = {}\n",
        "    contacts[name].update(info)\n",
        "contacts = {}\n",
        "add_contact(contacts, \"Alice\", phone=\"123-456-7890\", email=\"alice@example.com\")\n",
        "add_contact(contacts, \"Bob\", phone=\"987-654-3210\")\n",
        "add_contact(contacts, \"Alice\", address=\"123 Main St\")\n",
        "add_contact(contacts,\"Sai Kiran\",phone=\"120-000-120\",email=\"saikiranpolaki@minfytech.com\")\n",
        "print(contacts)\n"
      ],
      "metadata": {
        "colab": {
          "base_uri": "https://localhost:8080/"
        },
        "id": "JutZgDHnbeZb",
        "outputId": "015b4a21-980d-4900-f483-fa3091f6a4c6"
      },
      "execution_count": 4,
      "outputs": [
        {
          "output_type": "stream",
          "name": "stdout",
          "text": [
            "{'Alice': {'phone': '123-456-7890', 'email': 'alice@example.com', 'address': '123 Main St'}, 'Bob': {'phone': '987-654-3210'}, 'Sai Kiran': {'phone': '120-000-120', 'email': 'saikiranpolaki@minfytech.com'}}\n"
          ]
        }
      ]
    },
    {
      "cell_type": "markdown",
      "source": [
        "##**Hard Questions:**"
      ],
      "metadata": {
        "id": "0hFSSuQ9cIJ7"
      }
    },
    {
      "cell_type": "code",
      "source": [
        "def transform_grades(grades):\n",
        "    result = {}\n",
        "    for student, scores in grades.items():\n",
        "        avg = round(sum(scores) / len(scores), 2)\n",
        "        high = max(scores)\n",
        "        low = min(scores)\n",
        "        result[student] = {\n",
        "            \"average\": avg,\n",
        "            \"highest\": high,\n",
        "            \"lowest\": low\n",
        "        }\n",
        "    return result\n",
        "grades = {\n",
        "    \"Alice\": [85, 90, 95],\n",
        "    \"Bob\": [70, 80, 90],\n",
        "    \"Charlie\": [90, 92, 93],\n",
        "    \"Sanskar\":[12,12,12]\n",
        "}\n",
        "print(transform_grades(grades))"
      ],
      "metadata": {
        "colab": {
          "base_uri": "https://localhost:8080/"
        },
        "id": "eWcH2aUzcLoP",
        "outputId": "2af0c514-7fa2-4c56-e6e4-7ec8c388c77c"
      },
      "execution_count": 5,
      "outputs": [
        {
          "output_type": "stream",
          "name": "stdout",
          "text": [
            "{'Alice': {'average': 90.0, 'highest': 95, 'lowest': 85}, 'Bob': {'average': 80.0, 'highest': 90, 'lowest': 70}, 'Charlie': {'average': 91.67, 'highest': 93, 'lowest': 90}, 'Sanskar': {'average': 12.0, 'highest': 12, 'lowest': 12}}\n"
          ]
        }
      ]
    },
    {
      "cell_type": "code",
      "source": [
        "def generate_tree(paths):\n",
        "    tree = {}\n",
        "    for path in paths:\n",
        "        parts = path.split(\"/\")\n",
        "        current = tree\n",
        "        for part in parts:\n",
        "            if part not in current:\n",
        "                current[part] = {}\n",
        "            current = current[part]\n",
        "    return tree\n",
        "paths = [\n",
        "    \"folder1/file1.txt\",\n",
        "    \"folder1/folder2/file2.txt\",\n",
        "    \"folder3/file3.txt\"\n",
        "]\n",
        "print(generate_tree(paths))"
      ],
      "metadata": {
        "colab": {
          "base_uri": "https://localhost:8080/"
        },
        "id": "BOScGoo9cnV9",
        "outputId": "55fc598d-6d31-4395-85b2-24d6a4cd1f9d"
      },
      "execution_count": 7,
      "outputs": [
        {
          "output_type": "stream",
          "name": "stdout",
          "text": [
            "{'folder1': {'file1.txt': {}, 'folder2': {'file2.txt': {}}}, 'folder3': {'file3.txt': {}}}\n"
          ]
        }
      ]
    }
  ]
}